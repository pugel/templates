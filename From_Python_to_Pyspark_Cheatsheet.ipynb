{
 "cells": [
  {
   "cell_type": "markdown",
   "id": "5ff94b39",
   "metadata": {},
   "source": [
    "# From Python to Pyspark Cheatsheet"
   ]
  },
  {
   "cell_type": "markdown",
   "id": "bb1a507d",
   "metadata": {},
   "source": [
    "Table of Contents:\n",
    "    - Switching between dataframe types\n",
    "    - Creating dataframes\n",
    "    - User Defined Functions\n",
    "    - Mapping\n",
    "    - Creating columns within pyspark dataframe\n",
    "    - Creating an index within dataframe\n",
    "    - Finding unique/distinct values\n",
    "    - Collecting a column as a list instead of dataframe\n",
    "    - Merging dataframes\n",
    "    - Spliting columns\n",
    "    - Dropping columns\n",
    "    - Changing column names"
   ]
  }
 ],
 "metadata": {
  "kernelspec": {
   "display_name": "Python 3",
   "language": "python",
   "name": "python3"
  },
  "language_info": {
   "codemirror_mode": {
    "name": "ipython",
    "version": 3
   },
   "file_extension": ".py",
   "mimetype": "text/x-python",
   "name": "python",
   "nbconvert_exporter": "python",
   "pygments_lexer": "ipython3",
   "version": "3.8.5"
  }
 },
 "nbformat": 4,
 "nbformat_minor": 5
}
