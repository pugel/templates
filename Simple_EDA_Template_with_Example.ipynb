{
 "cells": [
  {
   "cell_type": "markdown",
   "id": "dd8beff5-d326-43e4-82bc-598dc3328368",
   "metadata": {},
   "source": [
    "# Simple EDA Template with Example"
   ]
  },
  {
   "cell_type": "markdown",
   "id": "74979804-c4fe-4444-ad82-2a5ac77c0bf4",
   "metadata": {},
   "source": [
    "### Overview Steps:\n",
    "    1. Research and Brainstorm\n",
    "    2. Preprocessing\n",
    "    3. Individual Variables Exploration\n",
    "    4. Variable Correlation Exploration\n",
    "    5. Conclusion and Next Steps"
   ]
  },
  {
   "cell_type": "markdown",
   "id": "326250e1-a71a-4eab-888d-9f39c8c63450",
   "metadata": {},
   "source": [
    "## 1. Research and Brainstorm\n",
    "\n",
    "### Research the context of the data\n",
    "    - how was the data collected?\n",
    "    - who collected the data?\n",
    "    - are there any biases that could have come from the data?\n",
    "    - is there any domain knowledge needed in order to informly explore this data?\n",
    "    - are there any variables that require research to understand their full meaning?\n",
    "### Brainstorm questions and concepts that may or may not be answered with the data\n",
    "    - are there any variables you suspect would correlate?\n",
    "    - are there any variables that are expected to have certain trends or values?"
   ]
  },
  {
   "cell_type": "markdown",
   "id": "3c338268-71e1-4d53-a3f4-53e10a58a7de",
   "metadata": {},
   "source": [
    "## 2. Preprocessing\n",
    "\n",
    "### Important issues to look for in the data\n",
    "\n",
    "#### Duplicates\n",
    "    - does the data have duplicates that need to be removed?\n",
    "    - how does keeping or removing duplicate values change the insight from later EDA?\n",
    "#### Null Values \n",
    "    - does the data have null values that should be removed?\n",
    "    - how does keeping or removing null values change the insight from later EDA?\n",
    "#### Outlier Values\n",
    "    - do categorical varibles have reasonable responses - example variables states have only real states?\n",
    "    - do quantitative variables have a reapip install jupyter_to_mediumsonable range and standard deviation?\n",
    "#### Inconsistent formats\n",
    "    - do the variables have data types that make sense for the variable?"
   ]
  },
  {
   "cell_type": "code",
   "execution_count": 1,
   "id": "c58c26e7-0305-49a7-8f58-c165efbf82dc",
   "metadata": {},
   "outputs": [
    {
     "name": "stdout",
     "output_type": "stream",
     "text": [
      "Collecting jupyter_to_medium\n",
      "  Downloading jupyter_to_medium-0.2.10-py3-none-any.whl (31 kB)\n",
      "Collecting nbconvert==5.6.1\n",
      "  Downloading nbconvert-5.6.1-py2.py3-none-any.whl (455 kB)\n",
      "\u001b[K     |████████████████████████████████| 455 kB 1.8 MB/s eta 0:00:01\n",
      "\u001b[?25hRequirement already satisfied: jupyter<2.0.0,>=1.0.0 in /Users/mikayla/opt/anaconda3/lib/python3.8/site-packages (from jupyter_to_medium) (1.0.0)\n",
      "Collecting matplotlib<4.0.0,>=3.5.0\n",
      "  Downloading matplotlib-3.5.1-cp38-cp38-macosx_10_9_x86_64.whl (7.3 MB)\n",
      "\u001b[K     |████████████████████████████████| 7.3 MB 29.2 MB/s eta 0:00:01\n",
      "\u001b[?25hCollecting beautifulsoup4<5.0.0,>=4.10.0\n",
      "  Downloading beautifulsoup4-4.10.0-py3-none-any.whl (97 kB)\n",
      "\u001b[K     |████████████████████████████████| 97 kB 15.5 MB/s eta 0:00:01\n",
      "\u001b[?25hCollecting jupyter-contrib-nbextensions<0.6.0,>=0.5.1\n",
      "  Downloading jupyter_contrib_nbextensions-0.5.1-py2.py3-none-any.whl (20.9 MB)\n",
      "\u001b[K     |████████████████████████████████| 20.9 MB 39.8 MB/s eta 0:00:01     |█████████████████               | 11.1 MB 39.8 MB/s eta 0:00:01\n",
      "\u001b[?25hCollecting numpy<2.0.0,>=1.21.4\n",
      "  Downloading numpy-1.21.4-cp38-cp38-macosx_10_9_x86_64.whl (16.9 MB)\n",
      "\u001b[K     |████████████████████████████████| 16.9 MB 31.8 MB/s eta 0:00:01\n",
      "\u001b[?25hCollecting requests<3.0.0,>=2.26.0\n",
      "  Using cached requests-2.26.0-py2.py3-none-any.whl (62 kB)\n",
      "Requirement already satisfied: defusedxml in /Users/mikayla/opt/anaconda3/lib/python3.8/site-packages (from nbconvert==5.6.1->jupyter_to_medium) (0.7.1)\n",
      "Requirement already satisfied: pygments in /Users/mikayla/opt/anaconda3/lib/python3.8/site-packages (from nbconvert==5.6.1->jupyter_to_medium) (2.9.0)\n",
      "Requirement already satisfied: pandocfilters>=1.4.1 in /Users/mikayla/opt/anaconda3/lib/python3.8/site-packages (from nbconvert==5.6.1->jupyter_to_medium) (1.4.3)\n",
      "Requirement already satisfied: mistune<2,>=0.8.1 in /Users/mikayla/opt/anaconda3/lib/python3.8/site-packages (from nbconvert==5.6.1->jupyter_to_medium) (0.8.4)\n",
      "Requirement already satisfied: testpath in /Users/mikayla/opt/anaconda3/lib/python3.8/site-packages (from nbconvert==5.6.1->jupyter_to_medium) (0.5.0)\n",
      "Requirement already satisfied: nbformat>=4.4 in /Users/mikayla/opt/anaconda3/lib/python3.8/site-packages (from nbconvert==5.6.1->jupyter_to_medium) (5.1.3)\n",
      "Requirement already satisfied: bleach in /Users/mikayla/opt/anaconda3/lib/python3.8/site-packages (from nbconvert==5.6.1->jupyter_to_medium) (3.3.0)\n",
      "Requirement already satisfied: entrypoints>=0.2.2 in /Users/mikayla/opt/anaconda3/lib/python3.8/site-packages (from nbconvert==5.6.1->jupyter_to_medium) (0.3)\n",
      "Requirement already satisfied: traitlets>=4.2 in /Users/mikayla/opt/anaconda3/lib/python3.8/site-packages (from nbconvert==5.6.1->jupyter_to_medium) (5.0.5)\n",
      "Requirement already satisfied: jinja2>=2.4 in /Users/mikayla/opt/anaconda3/lib/python3.8/site-packages (from nbconvert==5.6.1->jupyter_to_medium) (3.0.1)\n",
      "Requirement already satisfied: jupyter-core in /Users/mikayla/opt/anaconda3/lib/python3.8/site-packages (from nbconvert==5.6.1->jupyter_to_medium) (4.7.1)\n",
      "Requirement already satisfied: soupsieve>1.2 in /Users/mikayla/opt/anaconda3/lib/python3.8/site-packages (from beautifulsoup4<5.0.0,>=4.10.0->jupyter_to_medium) (2.2.1)\n",
      "Requirement already satisfied: MarkupSafe>=2.0 in /Users/mikayla/opt/anaconda3/lib/python3.8/site-packages (from jinja2>=2.4->nbconvert==5.6.1->jupyter_to_medium) (2.0.1)\n",
      "Requirement already satisfied: ipywidgets in /Users/mikayla/opt/anaconda3/lib/python3.8/site-packages (from jupyter<2.0.0,>=1.0.0->jupyter_to_medium) (7.6.3)\n",
      "Requirement already satisfied: jupyter-console in /Users/mikayla/opt/anaconda3/lib/python3.8/site-packages (from jupyter<2.0.0,>=1.0.0->jupyter_to_medium) (6.4.0)\n",
      "Requirement already satisfied: qtconsole in /Users/mikayla/opt/anaconda3/lib/python3.8/site-packages (from jupyter<2.0.0,>=1.0.0->jupyter_to_medium) (5.1.0)\n",
      "Requirement already satisfied: ipykernel in /Users/mikayla/opt/anaconda3/lib/python3.8/site-packages (from jupyter<2.0.0,>=1.0.0->jupyter_to_medium) (5.5.5)\n",
      "Requirement already satisfied: notebook in /Users/mikayla/opt/anaconda3/lib/python3.8/site-packages (from jupyter<2.0.0,>=1.0.0->jupyter_to_medium) (6.4.0)\n",
      "Collecting jupyter-nbextensions-configurator>=0.4.0\n",
      "  Downloading jupyter_nbextensions_configurator-0.4.1.tar.gz (479 kB)\n",
      "\u001b[K     |████████████████████████████████| 479 kB 39.6 MB/s eta 0:00:01\n",
      "\u001b[?25hCollecting jupyter-highlight-selected-word>=0.1.1\n",
      "  Downloading jupyter_highlight_selected_word-0.2.0-py2.py3-none-any.whl (11 kB)\n",
      "Requirement already satisfied: tornado in /Users/mikayla/opt/anaconda3/lib/python3.8/site-packages (from jupyter-contrib-nbextensions<0.6.0,>=0.5.1->jupyter_to_medium) (6.1)\n",
      "Requirement already satisfied: pyyaml in /Users/mikayla/opt/anaconda3/lib/python3.8/site-packages (from jupyter-contrib-nbextensions<0.6.0,>=0.5.1->jupyter_to_medium) (5.3.1)\n",
      "Requirement already satisfied: lxml in /Users/mikayla/opt/anaconda3/lib/python3.8/site-packages (from jupyter-contrib-nbextensions<0.6.0,>=0.5.1->jupyter_to_medium) (4.6.3)\n",
      "Collecting jupyter-contrib-core>=0.3.3\n",
      "  Downloading jupyter_contrib_core-0.3.3-py2.py3-none-any.whl (18 kB)\n",
      "Collecting jupyter-latex-envs>=1.3.8\n",
      "  Downloading jupyter_latex_envs-1.4.6.tar.gz (861 kB)\n",
      "\u001b[K     |████████████████████████████████| 861 kB 42.6 MB/s eta 0:00:01\n",
      "\u001b[?25hRequirement already satisfied: ipython-genutils in /Users/mikayla/opt/anaconda3/lib/python3.8/site-packages (from jupyter-contrib-nbextensions<0.6.0,>=0.5.1->jupyter_to_medium) (0.2.0)\n",
      "Requirement already satisfied: setuptools in /Users/mikayla/opt/anaconda3/lib/python3.8/site-packages (from jupyter-contrib-core>=0.3.3->jupyter-contrib-nbextensions<0.6.0,>=0.5.1->jupyter_to_medium) (57.0.0)\n",
      "Requirement already satisfied: ipython in /Users/mikayla/opt/anaconda3/lib/python3.8/site-packages (from jupyter-latex-envs>=1.3.8->jupyter-contrib-nbextensions<0.6.0,>=0.5.1->jupyter_to_medium) (7.24.1)\n",
      "Requirement already satisfied: cycler>=0.10 in /Users/mikayla/opt/anaconda3/lib/python3.8/site-packages (from matplotlib<4.0.0,>=3.5.0->jupyter_to_medium) (0.10.0)\n",
      "Requirement already satisfied: pillow>=6.2.0 in /Users/mikayla/opt/anaconda3/lib/python3.8/site-packages (from matplotlib<4.0.0,>=3.5.0->jupyter_to_medium) (8.2.0)\n",
      "Requirement already satisfied: pyparsing>=2.2.1 in /Users/mikayla/opt/anaconda3/lib/python3.8/site-packages (from matplotlib<4.0.0,>=3.5.0->jupyter_to_medium) (2.4.7)\n",
      "Requirement already satisfied: packaging>=20.0 in /Users/mikayla/opt/anaconda3/lib/python3.8/site-packages (from matplotlib<4.0.0,>=3.5.0->jupyter_to_medium) (20.9)\n",
      "Requirement already satisfied: kiwisolver>=1.0.1 in /Users/mikayla/opt/anaconda3/lib/python3.8/site-packages (from matplotlib<4.0.0,>=3.5.0->jupyter_to_medium) (1.3.1)\n",
      "Requirement already satisfied: python-dateutil>=2.7 in /Users/mikayla/opt/anaconda3/lib/python3.8/site-packages (from matplotlib<4.0.0,>=3.5.0->jupyter_to_medium) (2.8.1)\n",
      "Collecting fonttools>=4.22.0\n",
      "  Downloading fonttools-4.28.4-py3-none-any.whl (885 kB)\n",
      "\u001b[K     |████████████████████████████████| 885 kB 35.9 MB/s eta 0:00:01\n",
      "\u001b[?25hRequirement already satisfied: six in /Users/mikayla/opt/anaconda3/lib/python3.8/site-packages (from cycler>=0.10->matplotlib<4.0.0,>=3.5.0->jupyter_to_medium) (1.16.0)\n",
      "Requirement already satisfied: jsonschema!=2.5.0,>=2.4 in /Users/mikayla/opt/anaconda3/lib/python3.8/site-packages (from nbformat>=4.4->nbconvert==5.6.1->jupyter_to_medium) (3.2.0)\n",
      "Requirement already satisfied: attrs>=17.4.0 in /Users/mikayla/opt/anaconda3/lib/python3.8/site-packages (from jsonschema!=2.5.0,>=2.4->nbformat>=4.4->nbconvert==5.6.1->jupyter_to_medium) (21.2.0)\n",
      "Requirement already satisfied: pyrsistent>=0.14.0 in /Users/mikayla/opt/anaconda3/lib/python3.8/site-packages (from jsonschema!=2.5.0,>=2.4->nbformat>=4.4->nbconvert==5.6.1->jupyter_to_medium) (0.17.3)\n",
      "Requirement already satisfied: prometheus-client in /Users/mikayla/opt/anaconda3/lib/python3.8/site-packages (from notebook->jupyter<2.0.0,>=1.0.0->jupyter_to_medium) (0.11.0)\n",
      "Requirement already satisfied: Send2Trash>=1.5.0 in /Users/mikayla/opt/anaconda3/lib/python3.8/site-packages (from notebook->jupyter<2.0.0,>=1.0.0->jupyter_to_medium) (1.5.0)\n",
      "Requirement already satisfied: terminado>=0.8.3 in /Users/mikayla/opt/anaconda3/lib/python3.8/site-packages (from notebook->jupyter<2.0.0,>=1.0.0->jupyter_to_medium) (0.10.1)\n",
      "Requirement already satisfied: argon2-cffi in /Users/mikayla/opt/anaconda3/lib/python3.8/site-packages (from notebook->jupyter<2.0.0,>=1.0.0->jupyter_to_medium) (20.1.0)\n",
      "Requirement already satisfied: pyzmq>=17 in /Users/mikayla/opt/anaconda3/lib/python3.8/site-packages (from notebook->jupyter<2.0.0,>=1.0.0->jupyter_to_medium) (22.1.0)\n",
      "Requirement already satisfied: jupyter-client>=5.3.4 in /Users/mikayla/opt/anaconda3/lib/python3.8/site-packages (from notebook->jupyter<2.0.0,>=1.0.0->jupyter_to_medium) (6.1.12)\n",
      "Collecting charset-normalizer~=2.0.0\n",
      "  Downloading charset_normalizer-2.0.9-py3-none-any.whl (39 kB)\n",
      "Requirement already satisfied: idna<4,>=2.5 in /Users/mikayla/opt/anaconda3/lib/python3.8/site-packages (from requests<3.0.0,>=2.26.0->jupyter_to_medium) (2.10)\n",
      "Requirement already satisfied: urllib3<1.27,>=1.21.1 in /Users/mikayla/opt/anaconda3/lib/python3.8/site-packages (from requests<3.0.0,>=2.26.0->jupyter_to_medium) (1.26.5)\n",
      "Requirement already satisfied: certifi>=2017.4.17 in /Users/mikayla/opt/anaconda3/lib/python3.8/site-packages (from requests<3.0.0,>=2.26.0->jupyter_to_medium) (2021.5.30)\n",
      "Requirement already satisfied: ptyprocess in /Users/mikayla/opt/anaconda3/lib/python3.8/site-packages (from terminado>=0.8.3->notebook->jupyter<2.0.0,>=1.0.0->jupyter_to_medium) (0.6.0)\n",
      "Requirement already satisfied: cffi>=1.0.0 in /Users/mikayla/opt/anaconda3/lib/python3.8/site-packages (from argon2-cffi->notebook->jupyter<2.0.0,>=1.0.0->jupyter_to_medium) (1.14.5)\n",
      "Requirement already satisfied: pycparser in /Users/mikayla/opt/anaconda3/lib/python3.8/site-packages (from cffi>=1.0.0->argon2-cffi->notebook->jupyter<2.0.0,>=1.0.0->jupyter_to_medium) (2.20)\n",
      "Requirement already satisfied: webencodings in /Users/mikayla/opt/anaconda3/lib/python3.8/site-packages (from bleach->nbconvert==5.6.1->jupyter_to_medium) (0.5.1)\n",
      "Requirement already satisfied: appnope in /Users/mikayla/opt/anaconda3/lib/python3.8/site-packages (from ipykernel->jupyter<2.0.0,>=1.0.0->jupyter_to_medium) (0.1.2)\n",
      "Requirement already satisfied: decorator in /Users/mikayla/opt/anaconda3/lib/python3.8/site-packages (from ipython->jupyter-latex-envs>=1.3.8->jupyter-contrib-nbextensions<0.6.0,>=0.5.1->jupyter_to_medium) (4.4.2)\n",
      "Requirement already satisfied: jedi>=0.16 in /Users/mikayla/opt/anaconda3/lib/python3.8/site-packages (from ipython->jupyter-latex-envs>=1.3.8->jupyter-contrib-nbextensions<0.6.0,>=0.5.1->jupyter_to_medium) (0.17.2)\n",
      "Requirement already satisfied: prompt-toolkit!=3.0.0,!=3.0.1,<3.1.0,>=2.0.0 in /Users/mikayla/opt/anaconda3/lib/python3.8/site-packages (from ipython->jupyter-latex-envs>=1.3.8->jupyter-contrib-nbextensions<0.6.0,>=0.5.1->jupyter_to_medium) (3.0.18)\n",
      "Requirement already satisfied: backcall in /Users/mikayla/opt/anaconda3/lib/python3.8/site-packages (from ipython->jupyter-latex-envs>=1.3.8->jupyter-contrib-nbextensions<0.6.0,>=0.5.1->jupyter_to_medium) (0.2.0)\n",
      "Requirement already satisfied: matplotlib-inline in /Users/mikayla/opt/anaconda3/lib/python3.8/site-packages (from ipython->jupyter-latex-envs>=1.3.8->jupyter-contrib-nbextensions<0.6.0,>=0.5.1->jupyter_to_medium) (0.1.2)\n",
      "Requirement already satisfied: pickleshare in /Users/mikayla/opt/anaconda3/lib/python3.8/site-packages (from ipython->jupyter-latex-envs>=1.3.8->jupyter-contrib-nbextensions<0.6.0,>=0.5.1->jupyter_to_medium) (0.7.5)\n",
      "Requirement already satisfied: pexpect>4.3 in /Users/mikayla/opt/anaconda3/lib/python3.8/site-packages (from ipython->jupyter-latex-envs>=1.3.8->jupyter-contrib-nbextensions<0.6.0,>=0.5.1->jupyter_to_medium) (4.8.0)\n",
      "Requirement already satisfied: parso<0.8.0,>=0.7.0 in /Users/mikayla/opt/anaconda3/lib/python3.8/site-packages (from jedi>=0.16->ipython->jupyter-latex-envs>=1.3.8->jupyter-contrib-nbextensions<0.6.0,>=0.5.1->jupyter_to_medium) (0.7.0)\n",
      "Requirement already satisfied: wcwidth in /Users/mikayla/opt/anaconda3/lib/python3.8/site-packages (from prompt-toolkit!=3.0.0,!=3.0.1,<3.1.0,>=2.0.0->ipython->jupyter-latex-envs>=1.3.8->jupyter-contrib-nbextensions<0.6.0,>=0.5.1->jupyter_to_medium) (0.2.5)\n",
      "Requirement already satisfied: jupyterlab-widgets>=1.0.0 in /Users/mikayla/opt/anaconda3/lib/python3.8/site-packages (from ipywidgets->jupyter<2.0.0,>=1.0.0->jupyter_to_medium) (1.0.0)\n",
      "Requirement already satisfied: widgetsnbextension~=3.5.0 in /Users/mikayla/opt/anaconda3/lib/python3.8/site-packages (from ipywidgets->jupyter<2.0.0,>=1.0.0->jupyter_to_medium) (3.5.1)\n",
      "Requirement already satisfied: qtpy in /Users/mikayla/opt/anaconda3/lib/python3.8/site-packages (from qtconsole->jupyter<2.0.0,>=1.0.0->jupyter_to_medium) (1.9.0)\n",
      "Building wheels for collected packages: jupyter-latex-envs, jupyter-nbextensions-configurator\n",
      "  Building wheel for jupyter-latex-envs (setup.py) ... \u001b[?25ldone\n",
      "\u001b[?25h  Created wheel for jupyter-latex-envs: filename=jupyter_latex_envs-1.4.6-py2.py3-none-any.whl size=963414 sha256=d831de86f9051d2e2750cdeb3d143cb0ab33b82e7027ffc59b6c3cafa1190b59\n",
      "  Stored in directory: /Users/mikayla/Library/Caches/pip/wheels/4d/ba/f4/b8c0941055519ebc0f27e85bfe2bb223f1a59a3b8bfc5c7515\n",
      "  Building wheel for jupyter-nbextensions-configurator (setup.py) ... \u001b[?25ldone\n",
      "\u001b[?25h  Created wheel for jupyter-nbextensions-configurator: filename=jupyter_nbextensions_configurator-0.4.1-py2.py3-none-any.whl size=465843 sha256=acfe17f70257221d0fc1fe38f2591e02f26b69955edad8d939e38d0d3012e4c9\n",
      "  Stored in directory: /Users/mikayla/Library/Caches/pip/wheels/e3/3a/b3/a709b437602c3807f079f0c35ccba3e1adf9af6f2e6b0ebfea\n",
      "Successfully built jupyter-latex-envs jupyter-nbextensions-configurator\n",
      "Installing collected packages: nbconvert, jupyter-contrib-core, numpy, jupyter-nbextensions-configurator, jupyter-latex-envs, jupyter-highlight-selected-word, fonttools, charset-normalizer, requests, matplotlib, jupyter-contrib-nbextensions, beautifulsoup4, jupyter-to-medium\n",
      "  Attempting uninstall: nbconvert\n",
      "    Found existing installation: nbconvert 6.0.7\n",
      "    Uninstalling nbconvert-6.0.7:\n",
      "      Successfully uninstalled nbconvert-6.0.7\n",
      "  Attempting uninstall: numpy\n",
      "    Found existing installation: numpy 1.20.3\n",
      "    Uninstalling numpy-1.20.3:\n",
      "      Successfully uninstalled numpy-1.20.3\n",
      "  Attempting uninstall: requests\n",
      "    Found existing installation: requests 2.25.1\n",
      "    Uninstalling requests-2.25.1:\n",
      "      Successfully uninstalled requests-2.25.1\n",
      "  Attempting uninstall: matplotlib\n",
      "    Found existing installation: matplotlib 3.4.2\n",
      "    Uninstalling matplotlib-3.4.2:\n",
      "      Successfully uninstalled matplotlib-3.4.2\n",
      "  Attempting uninstall: beautifulsoup4\n",
      "    Found existing installation: beautifulsoup4 4.9.3\n",
      "    Uninstalling beautifulsoup4-4.9.3:\n",
      "      Successfully uninstalled beautifulsoup4-4.9.3\n",
      "\u001b[31mERROR: pip's dependency resolver does not currently take into account all the packages that are installed. This behaviour is the source of the following dependency conflicts.\n",
      "conda 4.10.3 requires ruamel_yaml_conda>=0.11.14, which is not installed.\n",
      "conda-repo-cli 1.0.4 requires pathlib, which is not installed.\n",
      "spyder 5.0.3 requires watchdog<2.0.0,>=0.10.3, but you have watchdog 2.1.2 which is incompatible.\n",
      "redshift-connector 2.0.881 requires requests<2.25.2,>=2.23.0, but you have requests 2.26.0 which is incompatible.\n",
      "greykite 0.1.1 requires cvxpy==1.1.12, but you have cvxpy 1.1.13 which is incompatible.\n",
      "greykite 0.1.1 requires fbprophet==0.5, but you have fbprophet 0.7.1 which is incompatible.\n",
      "greykite 0.1.1 requires holidays==0.9.10, but you have holidays 0.11.1 which is incompatible.\n",
      "greykite 0.1.1 requires ipykernel==4.8.2, but you have ipykernel 5.5.5 which is incompatible.\n",
      "greykite 0.1.1 requires ipython==7.1.1, but you have ipython 7.24.1 which is incompatible.\n",
      "greykite 0.1.1 requires ipywidgets==7.2.1, but you have ipywidgets 7.6.3 which is incompatible.\n",
      "greykite 0.1.1 requires jupyter-client==6.1.5, but you have jupyter-client 6.1.12 which is incompatible.\n",
      "greykite 0.1.1 requires jupyter-console==6., but you have jupyter-console 6.4.0 which is incompatible.\n",
      "greykite 0.1.1 requires matplotlib==3.4.1, but you have matplotlib 3.5.1 which is incompatible.\n",
      "greykite 0.1.1 requires notebook==5.4.1, but you have notebook 6.4.0 which is incompatible.\n",
      "greykite 0.1.1 requires numpy==1.20.2, but you have numpy 1.21.4 which is incompatible.\n",
      "greykite 0.1.1 requires osqp==0.6.1, but you have osqp 0.6.2.post0 which is incompatible.\n",
      "greykite 0.1.1 requires overrides==2.8.0, but you have overrides 6.1.0 which is incompatible.\n",
      "greykite 0.1.1 requires pandas==1.1.3, but you have pandas 1.2.4 which is incompatible.\n",
      "greykite 0.1.1 requires Pillow==8.0.1, but you have pillow 8.2.0 which is incompatible.\n",
      "greykite 0.1.1 requires plotly==3.10.0, but you have plotly 4.14.3 which is incompatible.\n",
      "greykite 0.1.1 requires pystan==2.18.0.0, but you have pystan 3.2.0 which is incompatible.\n",
      "greykite 0.1.1 requires pyzmq==22.0.3, but you have pyzmq 22.1.0 which is incompatible.\n",
      "greykite 0.1.1 requires scikit-learn==0.24.1, but you have scikit-learn 0.24.2 which is incompatible.\n",
      "greykite 0.1.1 requires scipy==1.5.4, but you have scipy 1.6.3 which is incompatible.\n",
      "greykite 0.1.1 requires seaborn==0.9.0, but you have seaborn 0.11.1 which is incompatible.\n",
      "greykite 0.1.1 requires six==1.15.0, but you have six 1.16.0 which is incompatible.\n",
      "greykite 0.1.1 requires Sphinx==3.2.1, but you have sphinx 4.0.2 which is incompatible.\n",
      "greykite 0.1.1 requires sphinx-gallery==0.6.1, but you have sphinx-gallery 0.9.0 which is incompatible.\n",
      "greykite 0.1.1 requires sphinx-rtd-theme==0.4.2, but you have sphinx-rtd-theme 0.5.2 which is incompatible.\n",
      "greykite 0.1.1 requires testfixtures==6.14.2, but you have testfixtures 6.17.1 which is incompatible.\n",
      "greykite 0.1.1 requires tornado==5.1.1, but you have tornado 6.1 which is incompatible.\n",
      "greykite 0.1.1 requires tqdm==4.52.0, but you have tqdm 4.61.0 which is incompatible.\u001b[0m\n",
      "Successfully installed beautifulsoup4-4.10.0 charset-normalizer-2.0.9 fonttools-4.28.4 jupyter-contrib-core-0.3.3 jupyter-contrib-nbextensions-0.5.1 jupyter-highlight-selected-word-0.2.0 jupyter-latex-envs-1.4.6 jupyter-nbextensions-configurator-0.4.1 jupyter-to-medium-0.2.10 matplotlib-3.5.1 nbconvert-5.6.1 numpy-1.21.4 requests-2.26.0\n",
      "\u001b[33mWARNING: You are using pip version 21.2.4; however, version 21.3.1 is available.\n",
      "You should consider upgrading via the '/Users/mikayla/opt/anaconda3/bin/python -m pip install --upgrade pip' command.\u001b[0m\n"
     ]
    }
   ],
   "source": [
    "! pip install jupyter_to_medium"
   ]
  },
  {
   "cell_type": "code",
   "execution_count": 2,
   "id": "ea4f169d-1ccf-484a-812c-c9271b51511d",
   "metadata": {},
   "outputs": [],
   "source": [
    "#load in packages\n",
    "import pandas as pd\n",
    "import numpy as np\n",
    "import matplotlib as plt\n",
    "import seaborn as sns\n",
    "\n",
    "pd.set_option('display.max_columns', None)"
   ]
  },
  {
   "cell_type": "code",
   "execution_count": 3,
   "id": "6091c222-1fde-4240-9ced-5d770e016655",
   "metadata": {},
   "outputs": [
    {
     "ename": "FileNotFoundError",
     "evalue": "[Errno 2] No such file or directory: 'bestsellers_with_categories.csv'",
     "output_type": "error",
     "traceback": [
      "\u001b[0;31m---------------------------------------------------------------------------\u001b[0m",
      "\u001b[0;31mFileNotFoundError\u001b[0m                         Traceback (most recent call last)",
      "\u001b[0;32m<ipython-input-3-04766b47d82a>\u001b[0m in \u001b[0;36m<module>\u001b[0;34m\u001b[0m\n\u001b[1;32m      3\u001b[0m \u001b[0;31m#https://www.kaggle.com/sootersaalu/amazon-top-50-bestselling-books-2009-2019\u001b[0m\u001b[0;34m\u001b[0m\u001b[0;34m\u001b[0m\u001b[0;34m\u001b[0m\u001b[0m\n\u001b[1;32m      4\u001b[0m \u001b[0;31m#load in data\u001b[0m\u001b[0;34m\u001b[0m\u001b[0;34m\u001b[0m\u001b[0;34m\u001b[0m\u001b[0m\n\u001b[0;32m----> 5\u001b[0;31m \u001b[0mdata\u001b[0m \u001b[0;34m=\u001b[0m \u001b[0mpd\u001b[0m\u001b[0;34m.\u001b[0m\u001b[0mread_csv\u001b[0m\u001b[0;34m(\u001b[0m\u001b[0;34m\"bestsellers_with_categories.csv\"\u001b[0m\u001b[0;34m,\u001b[0m \u001b[0merror_bad_lines\u001b[0m\u001b[0;34m=\u001b[0m\u001b[0;32mFalse\u001b[0m\u001b[0;34m)\u001b[0m\u001b[0;34m\u001b[0m\u001b[0;34m\u001b[0m\u001b[0m\n\u001b[0m\u001b[1;32m      6\u001b[0m \u001b[0;34m\u001b[0m\u001b[0m\n\u001b[1;32m      7\u001b[0m \u001b[0;31m#have a large dataset?\u001b[0m\u001b[0;34m\u001b[0m\u001b[0;34m\u001b[0m\u001b[0;34m\u001b[0m\u001b[0m\n",
      "\u001b[0;32m~/opt/anaconda3/lib/python3.8/site-packages/pandas/io/parsers.py\u001b[0m in \u001b[0;36mread_csv\u001b[0;34m(filepath_or_buffer, sep, delimiter, header, names, index_col, usecols, squeeze, prefix, mangle_dupe_cols, dtype, engine, converters, true_values, false_values, skipinitialspace, skiprows, skipfooter, nrows, na_values, keep_default_na, na_filter, verbose, skip_blank_lines, parse_dates, infer_datetime_format, keep_date_col, date_parser, dayfirst, cache_dates, iterator, chunksize, compression, thousands, decimal, lineterminator, quotechar, quoting, doublequote, escapechar, comment, encoding, dialect, error_bad_lines, warn_bad_lines, delim_whitespace, low_memory, memory_map, float_precision, storage_options)\u001b[0m\n\u001b[1;32m    608\u001b[0m     \u001b[0mkwds\u001b[0m\u001b[0;34m.\u001b[0m\u001b[0mupdate\u001b[0m\u001b[0;34m(\u001b[0m\u001b[0mkwds_defaults\u001b[0m\u001b[0;34m)\u001b[0m\u001b[0;34m\u001b[0m\u001b[0;34m\u001b[0m\u001b[0m\n\u001b[1;32m    609\u001b[0m \u001b[0;34m\u001b[0m\u001b[0m\n\u001b[0;32m--> 610\u001b[0;31m     \u001b[0;32mreturn\u001b[0m \u001b[0m_read\u001b[0m\u001b[0;34m(\u001b[0m\u001b[0mfilepath_or_buffer\u001b[0m\u001b[0;34m,\u001b[0m \u001b[0mkwds\u001b[0m\u001b[0;34m)\u001b[0m\u001b[0;34m\u001b[0m\u001b[0;34m\u001b[0m\u001b[0m\n\u001b[0m\u001b[1;32m    611\u001b[0m \u001b[0;34m\u001b[0m\u001b[0m\n\u001b[1;32m    612\u001b[0m \u001b[0;34m\u001b[0m\u001b[0m\n",
      "\u001b[0;32m~/opt/anaconda3/lib/python3.8/site-packages/pandas/io/parsers.py\u001b[0m in \u001b[0;36m_read\u001b[0;34m(filepath_or_buffer, kwds)\u001b[0m\n\u001b[1;32m    460\u001b[0m \u001b[0;34m\u001b[0m\u001b[0m\n\u001b[1;32m    461\u001b[0m     \u001b[0;31m# Create the parser.\u001b[0m\u001b[0;34m\u001b[0m\u001b[0;34m\u001b[0m\u001b[0;34m\u001b[0m\u001b[0m\n\u001b[0;32m--> 462\u001b[0;31m     \u001b[0mparser\u001b[0m \u001b[0;34m=\u001b[0m \u001b[0mTextFileReader\u001b[0m\u001b[0;34m(\u001b[0m\u001b[0mfilepath_or_buffer\u001b[0m\u001b[0;34m,\u001b[0m \u001b[0;34m**\u001b[0m\u001b[0mkwds\u001b[0m\u001b[0;34m)\u001b[0m\u001b[0;34m\u001b[0m\u001b[0;34m\u001b[0m\u001b[0m\n\u001b[0m\u001b[1;32m    463\u001b[0m \u001b[0;34m\u001b[0m\u001b[0m\n\u001b[1;32m    464\u001b[0m     \u001b[0;32mif\u001b[0m \u001b[0mchunksize\u001b[0m \u001b[0;32mor\u001b[0m \u001b[0miterator\u001b[0m\u001b[0;34m:\u001b[0m\u001b[0;34m\u001b[0m\u001b[0;34m\u001b[0m\u001b[0m\n",
      "\u001b[0;32m~/opt/anaconda3/lib/python3.8/site-packages/pandas/io/parsers.py\u001b[0m in \u001b[0;36m__init__\u001b[0;34m(self, f, engine, **kwds)\u001b[0m\n\u001b[1;32m    817\u001b[0m             \u001b[0mself\u001b[0m\u001b[0;34m.\u001b[0m\u001b[0moptions\u001b[0m\u001b[0;34m[\u001b[0m\u001b[0;34m\"has_index_names\"\u001b[0m\u001b[0;34m]\u001b[0m \u001b[0;34m=\u001b[0m \u001b[0mkwds\u001b[0m\u001b[0;34m[\u001b[0m\u001b[0;34m\"has_index_names\"\u001b[0m\u001b[0;34m]\u001b[0m\u001b[0;34m\u001b[0m\u001b[0;34m\u001b[0m\u001b[0m\n\u001b[1;32m    818\u001b[0m \u001b[0;34m\u001b[0m\u001b[0m\n\u001b[0;32m--> 819\u001b[0;31m         \u001b[0mself\u001b[0m\u001b[0;34m.\u001b[0m\u001b[0m_engine\u001b[0m \u001b[0;34m=\u001b[0m \u001b[0mself\u001b[0m\u001b[0;34m.\u001b[0m\u001b[0m_make_engine\u001b[0m\u001b[0;34m(\u001b[0m\u001b[0mself\u001b[0m\u001b[0;34m.\u001b[0m\u001b[0mengine\u001b[0m\u001b[0;34m)\u001b[0m\u001b[0;34m\u001b[0m\u001b[0;34m\u001b[0m\u001b[0m\n\u001b[0m\u001b[1;32m    820\u001b[0m \u001b[0;34m\u001b[0m\u001b[0m\n\u001b[1;32m    821\u001b[0m     \u001b[0;32mdef\u001b[0m \u001b[0mclose\u001b[0m\u001b[0;34m(\u001b[0m\u001b[0mself\u001b[0m\u001b[0;34m)\u001b[0m\u001b[0;34m:\u001b[0m\u001b[0;34m\u001b[0m\u001b[0;34m\u001b[0m\u001b[0m\n",
      "\u001b[0;32m~/opt/anaconda3/lib/python3.8/site-packages/pandas/io/parsers.py\u001b[0m in \u001b[0;36m_make_engine\u001b[0;34m(self, engine)\u001b[0m\n\u001b[1;32m   1048\u001b[0m             )\n\u001b[1;32m   1049\u001b[0m         \u001b[0;31m# error: Too many arguments for \"ParserBase\"\u001b[0m\u001b[0;34m\u001b[0m\u001b[0;34m\u001b[0m\u001b[0;34m\u001b[0m\u001b[0m\n\u001b[0;32m-> 1050\u001b[0;31m         \u001b[0;32mreturn\u001b[0m \u001b[0mmapping\u001b[0m\u001b[0;34m[\u001b[0m\u001b[0mengine\u001b[0m\u001b[0;34m]\u001b[0m\u001b[0;34m(\u001b[0m\u001b[0mself\u001b[0m\u001b[0;34m.\u001b[0m\u001b[0mf\u001b[0m\u001b[0;34m,\u001b[0m \u001b[0;34m**\u001b[0m\u001b[0mself\u001b[0m\u001b[0;34m.\u001b[0m\u001b[0moptions\u001b[0m\u001b[0;34m)\u001b[0m  \u001b[0;31m# type: ignore[call-arg]\u001b[0m\u001b[0;34m\u001b[0m\u001b[0;34m\u001b[0m\u001b[0m\n\u001b[0m\u001b[1;32m   1051\u001b[0m \u001b[0;34m\u001b[0m\u001b[0m\n\u001b[1;32m   1052\u001b[0m     \u001b[0;32mdef\u001b[0m \u001b[0m_failover_to_python\u001b[0m\u001b[0;34m(\u001b[0m\u001b[0mself\u001b[0m\u001b[0;34m)\u001b[0m\u001b[0;34m:\u001b[0m\u001b[0;34m\u001b[0m\u001b[0;34m\u001b[0m\u001b[0m\n",
      "\u001b[0;32m~/opt/anaconda3/lib/python3.8/site-packages/pandas/io/parsers.py\u001b[0m in \u001b[0;36m__init__\u001b[0;34m(self, src, **kwds)\u001b[0m\n\u001b[1;32m   1865\u001b[0m \u001b[0;34m\u001b[0m\u001b[0m\n\u001b[1;32m   1866\u001b[0m         \u001b[0;31m# open handles\u001b[0m\u001b[0;34m\u001b[0m\u001b[0;34m\u001b[0m\u001b[0;34m\u001b[0m\u001b[0m\n\u001b[0;32m-> 1867\u001b[0;31m         \u001b[0mself\u001b[0m\u001b[0;34m.\u001b[0m\u001b[0m_open_handles\u001b[0m\u001b[0;34m(\u001b[0m\u001b[0msrc\u001b[0m\u001b[0;34m,\u001b[0m \u001b[0mkwds\u001b[0m\u001b[0;34m)\u001b[0m\u001b[0;34m\u001b[0m\u001b[0;34m\u001b[0m\u001b[0m\n\u001b[0m\u001b[1;32m   1868\u001b[0m         \u001b[0;32massert\u001b[0m \u001b[0mself\u001b[0m\u001b[0;34m.\u001b[0m\u001b[0mhandles\u001b[0m \u001b[0;32mis\u001b[0m \u001b[0;32mnot\u001b[0m \u001b[0;32mNone\u001b[0m\u001b[0;34m\u001b[0m\u001b[0;34m\u001b[0m\u001b[0m\n\u001b[1;32m   1869\u001b[0m         \u001b[0;32mfor\u001b[0m \u001b[0mkey\u001b[0m \u001b[0;32min\u001b[0m \u001b[0;34m(\u001b[0m\u001b[0;34m\"storage_options\"\u001b[0m\u001b[0;34m,\u001b[0m \u001b[0;34m\"encoding\"\u001b[0m\u001b[0;34m,\u001b[0m \u001b[0;34m\"memory_map\"\u001b[0m\u001b[0;34m,\u001b[0m \u001b[0;34m\"compression\"\u001b[0m\u001b[0;34m)\u001b[0m\u001b[0;34m:\u001b[0m\u001b[0;34m\u001b[0m\u001b[0;34m\u001b[0m\u001b[0m\n",
      "\u001b[0;32m~/opt/anaconda3/lib/python3.8/site-packages/pandas/io/parsers.py\u001b[0m in \u001b[0;36m_open_handles\u001b[0;34m(self, src, kwds)\u001b[0m\n\u001b[1;32m   1360\u001b[0m         \u001b[0mLet\u001b[0m \u001b[0mthe\u001b[0m \u001b[0mreaders\u001b[0m \u001b[0mopen\u001b[0m \u001b[0mIOHanldes\u001b[0m \u001b[0mafter\u001b[0m \u001b[0mthey\u001b[0m \u001b[0mare\u001b[0m \u001b[0mdone\u001b[0m \u001b[0;32mwith\u001b[0m \u001b[0mtheir\u001b[0m \u001b[0mpotential\u001b[0m \u001b[0mraises\u001b[0m\u001b[0;34m.\u001b[0m\u001b[0;34m\u001b[0m\u001b[0;34m\u001b[0m\u001b[0m\n\u001b[1;32m   1361\u001b[0m         \"\"\"\n\u001b[0;32m-> 1362\u001b[0;31m         self.handles = get_handle(\n\u001b[0m\u001b[1;32m   1363\u001b[0m             \u001b[0msrc\u001b[0m\u001b[0;34m,\u001b[0m\u001b[0;34m\u001b[0m\u001b[0;34m\u001b[0m\u001b[0m\n\u001b[1;32m   1364\u001b[0m             \u001b[0;34m\"r\"\u001b[0m\u001b[0;34m,\u001b[0m\u001b[0;34m\u001b[0m\u001b[0;34m\u001b[0m\u001b[0m\n",
      "\u001b[0;32m~/opt/anaconda3/lib/python3.8/site-packages/pandas/io/common.py\u001b[0m in \u001b[0;36mget_handle\u001b[0;34m(path_or_buf, mode, encoding, compression, memory_map, is_text, errors, storage_options)\u001b[0m\n\u001b[1;32m    640\u001b[0m                 \u001b[0merrors\u001b[0m \u001b[0;34m=\u001b[0m \u001b[0;34m\"replace\"\u001b[0m\u001b[0;34m\u001b[0m\u001b[0;34m\u001b[0m\u001b[0m\n\u001b[1;32m    641\u001b[0m             \u001b[0;31m# Encoding\u001b[0m\u001b[0;34m\u001b[0m\u001b[0;34m\u001b[0m\u001b[0;34m\u001b[0m\u001b[0m\n\u001b[0;32m--> 642\u001b[0;31m             handle = open(\n\u001b[0m\u001b[1;32m    643\u001b[0m                 \u001b[0mhandle\u001b[0m\u001b[0;34m,\u001b[0m\u001b[0;34m\u001b[0m\u001b[0;34m\u001b[0m\u001b[0m\n\u001b[1;32m    644\u001b[0m                 \u001b[0mioargs\u001b[0m\u001b[0;34m.\u001b[0m\u001b[0mmode\u001b[0m\u001b[0;34m,\u001b[0m\u001b[0;34m\u001b[0m\u001b[0;34m\u001b[0m\u001b[0m\n",
      "\u001b[0;31mFileNotFoundError\u001b[0m: [Errno 2] No such file or directory: 'bestsellers_with_categories.csv'"
     ]
    }
   ],
   "source": [
    "#https://www.kaggle.com/sootersaalu/amazon-top-50-bestselling-books-2009-2019\n",
    "#load in data\n",
    "data = pd.read_csv(\"bestsellers_with_categories.csv\", error_bad_lines=False)\n",
    "\n",
    "#have a large dataset?\n",
    "# ! pip install datatble\n",
    "# import datatable as dt\n",
    "# data = dt.fread(\"\").to_pandas()"
   ]
  },
  {
   "cell_type": "code",
   "execution_count": null,
   "id": "d628ff97-77bc-4dce-be42-b625c29a0f74",
   "metadata": {},
   "outputs": [],
   "source": [
    "data.head()"
   ]
  },
  {
   "cell_type": "code",
   "execution_count": null,
   "id": "9e156899-8d35-42b2-89c3-4e5cc85b957a",
   "metadata": {},
   "outputs": [],
   "source": [
    "#number of duplicates \n",
    "duplicate_rows_df = data[data.duplicated()]\n",
    "print(\"number of duplicate rows: \", duplicate_rows_df.shape)\n",
    "\n",
    "#if you would like to remove duplicated values\n",
    "# data = data.drop_duplicates()\n",
    "# print(\"number of duplicate rows: \", duplicate_rows_df.shape)"
   ]
  },
  {
   "cell_type": "code",
   "execution_count": null,
   "id": "afef106f-fbb4-475a-81de-4f979a9b55b1",
   "metadata": {},
   "outputs": [],
   "source": [
    "#number of na values by variable\n",
    "nulls = data.isnull().sum().sort_values(ascending=False)\n",
    "print(\"Number of missing values:\")\n",
    "nulls.head(20)"
   ]
  },
  {
   "cell_type": "code",
   "execution_count": null,
   "id": "bdc56636-cb12-453a-93c8-d7fdfa5a2891",
   "metadata": {},
   "outputs": [],
   "source": [
    "#observe unique values of variables to see if anything is sus\n",
    "for variables in data.columns:\n",
    "    print(\"----------------------------------------------\")\n",
    "    print(\"unique values of variable: \" + str(variables))\n",
    "    print(data[variables].unique())"
   ]
  },
  {
   "cell_type": "code",
   "execution_count": null,
   "id": "974b22b7-f440-4a21-b378-2189fb4f5a05",
   "metadata": {},
   "outputs": [],
   "source": [
    "#statistical values of numerical variables\n",
    "data.describe()"
   ]
  },
  {
   "cell_type": "code",
   "execution_count": null,
   "id": "2e78b832-d2ed-4c60-beb2-40dee84e5b76",
   "metadata": {},
   "outputs": [],
   "source": [
    "#find format of variables\n",
    "print(data.dtypes)"
   ]
  },
  {
   "cell_type": "markdown",
   "id": "3ee7bcf7-ee97-4d80-bc04-5c10e089b25f",
   "metadata": {},
   "source": [
    "## 3. Individual Variables Exploration\n",
    "    - is there a dominated value for certain variables?\n",
    "    - is there an interesting distribution within the responses?\n",
    "    - do the responses make sense based on the context and background of the data?"
   ]
  },
  {
   "cell_type": "code",
   "execution_count": null,
   "id": "51e42843-adbe-479d-8b63-8b464f3815c8",
   "metadata": {},
   "outputs": [],
   "source": [
    "#value counts of categorical values\n",
    "data['Genre'].value_counts().plot(kind='bar', figsize=(8,8))\n",
    "pass"
   ]
  },
  {
   "cell_type": "code",
   "execution_count": null,
   "id": "70e67099-b9bb-45a0-a56c-5c6fb2dc1cd1",
   "metadata": {},
   "outputs": [],
   "source": [
    "#value counts of categorical values\n",
    "data['User Rating'].value_counts().plot(kind='bar', figsize=(8,8))\n",
    "pass"
   ]
  },
  {
   "cell_type": "code",
   "execution_count": null,
   "id": "8eeca30f-2ce8-43ab-848b-5f768cb0cfe7",
   "metadata": {},
   "outputs": [],
   "source": [
    "#value counts of categorical values\n",
    "data['Price'].value_counts().plot(kind='bar', figsize=(8,8))\n",
    "pass"
   ]
  },
  {
   "cell_type": "code",
   "execution_count": null,
   "id": "ebe3fdfd-27cd-48bc-8338-f831e721fae6",
   "metadata": {},
   "outputs": [],
   "source": [
    "author_counts = data.groupby('Author')['Name'].count()\n",
    "author_counts.head(40)"
   ]
  },
  {
   "cell_type": "code",
   "execution_count": null,
   "id": "fab2a3eb-a001-413f-8ecd-67ad7b87c8e5",
   "metadata": {},
   "outputs": [],
   "source": [
    "#if you have a continuous float value, might be useful to use a histogram\n",
    "#I like to use the seaborn histogram \n",
    "\n",
    "# sns.displot(data, x = '', binwidth=0.2, kind = 'hist')"
   ]
  },
  {
   "cell_type": "markdown",
   "id": "13a8a20d-396e-40e2-baea-2876f3823e6c",
   "metadata": {},
   "source": [
    "## 2-3. Alternative Method\n",
    "\n",
    "### Pandas Profiling \n"
   ]
  },
  {
   "cell_type": "code",
   "execution_count": null,
   "id": "b6d231fe-4801-486a-a5f9-e931ceb20e99",
   "metadata": {},
   "outputs": [],
   "source": [
    "# ! pip install pandas_profiling\n",
    "import pandas_profiling\n",
    "\n",
    "profile = data.profile_report(title='Pandas Profiling Report')\n",
    "profile.to_file(output_file=\"pandas_profiling.html\")"
   ]
  },
  {
   "cell_type": "markdown",
   "id": "04d3228c-6136-4039-833d-e302d75c4a46",
   "metadata": {},
   "source": [
    "## 4. Variable Correlation Exploration\n",
    "    - How do variables compare to one another\n",
    "    - This is a good section to explore ideas and questions from the brainstorming questions of how certain variables might compare to one another\n",
    "    - Often important to aggregate many of the features to compare"
   ]
  },
  {
   "cell_type": "code",
   "execution_count": null,
   "id": "7a7f1b42-f315-41d8-ba86-b2516294fbe4",
   "metadata": {},
   "outputs": [],
   "source": [
    "#start with pairplot to get simple comparisions of variables\n",
    "sns.pairplot(data)\n",
    "pass"
   ]
  },
  {
   "cell_type": "code",
   "execution_count": null,
   "id": "cca28cd7-f94d-46e2-b34a-f077971f4bfe",
   "metadata": {},
   "outputs": [],
   "source": [
    "#Often important to aggregate many of the features to compare\n",
    "author_average_price = data.groupby('Author')['Price'].mean()\n",
    "author_average_price.head(20)"
   ]
  },
  {
   "cell_type": "code",
   "execution_count": null,
   "id": "bb42e219-9767-4fd9-a428-04a94f1f31a0",
   "metadata": {},
   "outputs": [],
   "source": [
    "author_counts.head(20)"
   ]
  },
  {
   "cell_type": "code",
   "execution_count": null,
   "id": "5d383080-85b8-4b8c-9dcc-cb1c47c30666",
   "metadata": {},
   "outputs": [],
   "source": [
    "#how does number of books an author has on the top 50 compare to their average price?\n",
    "Author_Price_Df = pd.DataFrame(data = author_average_price)\n",
    "Author_Bookcount_Df = pd.DataFrame(data = author_counts)\n",
    "\n",
    "Merged_Df = Author_Price_Df.join(Author_Bookcount_Df, on = 'Author', how = 'left')"
   ]
  },
  {
   "cell_type": "code",
   "execution_count": null,
   "id": "b49a4e59-992c-412e-9301-b64ccc5700f6",
   "metadata": {},
   "outputs": [],
   "source": [
    "Merged_Df.head()"
   ]
  },
  {
   "cell_type": "code",
   "execution_count": null,
   "id": "71388da7-72c7-4f38-9e0a-880cf0c4adb4",
   "metadata": {},
   "outputs": [],
   "source": [
    "Merged_Df.plot.scatter(x='Price', y='Name', c='DarkBlue', figsize=(8,8))\n",
    "pass"
   ]
  },
  {
   "cell_type": "markdown",
   "id": "a381400c-b5b5-470e-965c-ef40b08bf68f",
   "metadata": {},
   "source": [
    "## 5. Conclusion and Next Steps\n",
    "    - Document findings at the end of the EDA project that way they are easy to access and look at again in the future"
   ]
  },
  {
   "cell_type": "markdown",
   "id": "67506aac-5b58-4c25-a2de-0ec960110710",
   "metadata": {},
   "source": [
    "### Notes from Amazon Top 50 Bestselling Books 2009-2019 EDA\n",
    "    - "
   ]
  },
  {
   "cell_type": "code",
   "execution_count": null,
   "id": "1f14917f-61b8-4bde-89c9-ec8fbdc9abbe",
   "metadata": {},
   "outputs": [],
   "source": []
  }
 ],
 "metadata": {
  "kernelspec": {
   "display_name": "Python 3",
   "language": "python",
   "name": "python3"
  },
  "language_info": {
   "codemirror_mode": {
    "name": "ipython",
    "version": 3
   },
   "file_extension": ".py",
   "mimetype": "text/x-python",
   "name": "python",
   "nbconvert_exporter": "python",
   "pygments_lexer": "ipython3",
   "version": "3.8.5"
  }
 },
 "nbformat": 4,
 "nbformat_minor": 5
}
