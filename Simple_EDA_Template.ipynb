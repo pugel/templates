{
 "cells": [
  {
   "cell_type": "markdown",
   "id": "dd8beff5-d326-43e4-82bc-598dc3328368",
   "metadata": {},
   "source": [
    "# Simple EDA Template"
   ]
  },
  {
   "cell_type": "markdown",
   "id": "74979804-c4fe-4444-ad82-2a5ac77c0bf4",
   "metadata": {},
   "source": [
    "### Overview Steps:\n",
    "    1. Research and Brainstorm\n",
    "    2. Preprocessing\n",
    "    3. Individual Variables Exploration\n",
    "    4. Variable Correlation Exploration\n",
    "    5. Conclusion and Next Steps"
   ]
  },
  {
   "cell_type": "markdown",
   "id": "326250e1-a71a-4eab-888d-9f39c8c63450",
   "metadata": {},
   "source": [
    "## 1. Research and Brainstorm\n",
    "\n",
    "### Research the context of the data\n",
    "    - how was the data collected?\n",
    "    - who collected the data?\n",
    "    - are there any biases that could have come from the data?\n",
    "    - is there any domain knowledge needed in order to informly explore this data?\n",
    "    - are there any variables that require research to understand their full meaning?\n",
    "### Brainstorm questions and concepts that may or may not be answered with the data\n",
    "    - are there any variables you suspect would correlate?\n",
    "    - are there any variables that are expected to have certain trends or values?"
   ]
  },
  {
   "cell_type": "markdown",
   "id": "3c338268-71e1-4d53-a3f4-53e10a58a7de",
   "metadata": {},
   "source": [
    "## 2. Preprocessing\n",
    "\n",
    "### Important issues to look for in the data\n",
    "\n",
    "#### Duplicates\n",
    "    - does the data have duplicates that need to be removed?\n",
    "    - how does keeping or removing duplicate values change the insight from later EDA?\n",
    "#### Null Values \n",
    "    - does the data have null values that should be removed?\n",
    "    - how does keeping or removing null values change the insight from later EDA?\n",
    "#### Oulier Values\n",
    "    - do categorical varibles have resonable responses - example variables states have only real states?\n",
    "    - do quantitative variables have a resonable range and standard deviation?\n",
    "#### Inconsistent formats\n",
    "    - do string variables have any float values?"
   ]
  },
  {
   "cell_type": "code",
   "execution_count": 3,
   "id": "ea4f169d-1ccf-484a-812c-c9271b51511d",
   "metadata": {},
   "outputs": [],
   "source": [
    "#load in packages\n",
    "import pandas as pd\n",
    "import numpy as pd\n",
    "import matplotlib as plt\n",
    "import seaborn as sns"
   ]
  },
  {
   "cell_type": "code",
   "execution_count": null,
   "id": "6091c222-1fde-4240-9ced-5d770e016655",
   "metadata": {},
   "outputs": [],
   "source": [
    "#load in data\n",
    "data = pd.read_csv(\"\")\n",
    "\n",
    "#have a large dataset?\n",
    "\n",
    "# ! pip install datatble\n",
    "# import datatable as dt\n",
    "# data = dt.fread(\"\").to_pandas()"
   ]
  },
  {
   "cell_type": "code",
   "execution_count": null,
   "id": "9e156899-8d35-42b2-89c3-4e5cc85b957a",
   "metadata": {},
   "outputs": [],
   "source": [
    "#number of duplicates \n",
    "duplicate_rows_df = data[data.duplicated()]\n",
    "print(\"number of duplicate rows: \", duplicate_rows_df.shape)"
   ]
  },
  {
   "cell_type": "code",
   "execution_count": null,
   "id": "afef106f-fbb4-475a-81de-4f979a9b55b1",
   "metadata": {},
   "outputs": [],
   "source": [
    "#number of na values by variable\n",
    "nulls = data.isnull().sum().sort_values(ascending=False)\n",
    "print(\"Number of missing values:\" + nulls)"
   ]
  },
  {
   "cell_type": "code",
   "execution_count": null,
   "id": "bdc56636-cb12-453a-93c8-d7fdfa5a2891",
   "metadata": {},
   "outputs": [],
   "source": [
    "#observe unique values of variables to see if anything is sus\n",
    "for variables in data.columns():\n",
    "    print(\"unique values of variable: \" + variables)\n",
    "    print(data.variables.unique())"
   ]
  },
  {
   "cell_type": "code",
   "execution_count": null,
   "id": "974b22b7-f440-4a21-b378-2189fb4f5a05",
   "metadata": {},
   "outputs": [],
   "source": [
    "#statistical values of numerical variables\n",
    "data.describe()"
   ]
  },
  {
   "cell_type": "code",
   "execution_count": null,
   "id": "2e78b832-d2ed-4c60-beb2-40dee84e5b76",
   "metadata": {},
   "outputs": [],
   "source": [
    "#find format of variables\n",
    "for variables in data.columns():\n",
    "    print(variables + type(variables))"
   ]
  },
  {
   "cell_type": "markdown",
   "id": "3ee7bcf7-ee97-4d80-bc04-5c10e089b25f",
   "metadata": {},
   "source": [
    "## 3. Individual Variables Exploration\n",
    "    - "
   ]
  },
  {
   "cell_type": "code",
   "execution_count": null,
   "id": "51e42843-adbe-479d-8b63-8b464f3815c8",
   "metadata": {},
   "outputs": [],
   "source": [
    "#value counts of categorical values\n",
    "data.calculated_source.value_counts().plot(kind='bar', figsize=(20,10))\n",
    "pass"
   ]
  },
  {
   "cell_type": "code",
   "execution_count": null,
   "id": "c518dca6-71a6-404c-8e76-71b25332c3ce",
   "metadata": {},
   "outputs": [],
   "source": [
    "data.hist(column='', bins=25, grid=False, figsize=(12,8), color='#86bf91', zorder=2, rwidth=0.9)\n",
    "pass"
   ]
  },
  {
   "cell_type": "markdown",
   "id": "13a8a20d-396e-40e2-baea-2876f3823e6c",
   "metadata": {},
   "source": [
    "## 2-3. Alternative Method\n",
    "\n",
    "### Pandas Profiling \n"
   ]
  },
  {
   "cell_type": "code",
   "execution_count": null,
   "id": "b6d231fe-4801-486a-a5f9-e931ceb20e99",
   "metadata": {},
   "outputs": [],
   "source": [
    "import pandas_profiling\n",
    "\n",
    "profile = data_fifa.profile_report(title='Pandas Profiling Report')\n",
    "profile.to_file(output_file=\"fifa_pandas_profiling.html\")"
   ]
  },
  {
   "cell_type": "markdown",
   "id": "04d3228c-6136-4039-833d-e302d75c4a46",
   "metadata": {},
   "source": [
    "## 4. Variable Correlation Exploration\n",
    "    - How to variables compare to one another\n",
    "    - This is a good section to explore ideas and questions from the brainstorming questions of how certain variables might compare to one another"
   ]
  },
  {
   "cell_type": "code",
   "execution_count": null,
   "id": "71388da7-72c7-4f38-9e0a-880cf0c4adb4",
   "metadata": {},
   "outputs": [],
   "source": [
    "data.plot.scatter(x='', y='', c='DarkBlue')"
   ]
  },
  {
   "cell_type": "code",
   "execution_count": null,
   "id": "063eb287-c608-4daf-8e9d-dde80955b7a6",
   "metadata": {},
   "outputs": [],
   "source": [
    "sns.pairplot(data)"
   ]
  },
  {
   "cell_type": "code",
   "execution_count": null,
   "id": "0d162092-5be9-4bc0-be01-5d8e8f1e24a2",
   "metadata": {},
   "outputs": [],
   "source": []
  },
  {
   "cell_type": "markdown",
   "id": "a381400c-b5b5-470e-965c-ef40b08bf68f",
   "metadata": {},
   "source": [
    "## 5. Conclusion and Next Steps\n",
    "    - "
   ]
  },
  {
   "cell_type": "code",
   "execution_count": null,
   "id": "19a7d277-7e8a-43f4-bb98-5503e6351501",
   "metadata": {},
   "outputs": [],
   "source": []
  },
  {
   "cell_type": "code",
   "execution_count": null,
   "id": "5d097c3b-535a-4bfd-b0d2-5f1f9cc6a641",
   "metadata": {},
   "outputs": [],
   "source": []
  },
  {
   "cell_type": "code",
   "execution_count": null,
   "id": "fa53db08-c9ce-447b-8446-0748e6f39dc4",
   "metadata": {},
   "outputs": [],
   "source": []
  },
  {
   "cell_type": "code",
   "execution_count": null,
   "id": "c0015453-676e-4c83-9e2a-90181298d63a",
   "metadata": {},
   "outputs": [],
   "source": []
  },
  {
   "cell_type": "code",
   "execution_count": null,
   "id": "57d71032-17d8-4040-b17c-1fafda4c9521",
   "metadata": {},
   "outputs": [],
   "source": []
  },
  {
   "cell_type": "code",
   "execution_count": null,
   "id": "d223c10d-a799-4842-bbbc-3f7ab1ad8393",
   "metadata": {},
   "outputs": [],
   "source": []
  }
 ],
 "metadata": {
  "kernelspec": {
   "display_name": "Python 3",
   "language": "python",
   "name": "python3"
  },
  "language_info": {
   "codemirror_mode": {
    "name": "ipython",
    "version": 3
   },
   "file_extension": ".py",
   "mimetype": "text/x-python",
   "name": "python",
   "nbconvert_exporter": "python",
   "pygments_lexer": "ipython3",
   "version": "3.8.5"
  }
 },
 "nbformat": 4,
 "nbformat_minor": 5
}
