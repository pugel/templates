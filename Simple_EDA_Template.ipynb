{
 "cells": [
  {
   "cell_type": "markdown",
   "id": "dd8beff5-d326-43e4-82bc-598dc3328368",
   "metadata": {},
   "source": [
    "# Simple EDA Template"
   ]
  },
  {
   "cell_type": "markdown",
   "id": "74979804-c4fe-4444-ad82-2a5ac77c0bf4",
   "metadata": {},
   "source": [
    "### Overview Steps:\n",
    "    1. Research and Brainstorm\n",
    "    2. Preprocessing\n",
    "    3. Individual Variables Exploration\n",
    "    4. Variable Correlation Exploration\n",
    "    5. Conclusion and Next Steps"
   ]
  },
  {
   "cell_type": "markdown",
   "id": "326250e1-a71a-4eab-888d-9f39c8c63450",
   "metadata": {},
   "source": [
    "## 1. Research and Brainstorm\n",
    "\n",
    "### Research the context of the data\n",
    "    - how was the data collected?\n",
    "    - who collected the data?\n",
    "    - are there any biases that could have come from the data?\n",
    "    - is there any domain knowledge needed in order to informly explore this data?\n",
    "    - are there any variables that require research to understand their full meaning?\n",
    "### Brainstorm questions and concepts that may or may not be answered with the data\n",
    "    - are there any variables you suspect would correlate?\n",
    "    - are there any variables that are expected to have certain trends or values?"
   ]
  },
  {
   "cell_type": "markdown",
   "id": "3c338268-71e1-4d53-a3f4-53e10a58a7de",
   "metadata": {},
   "source": [
    "## 2. Preprocessing\n",
    "\n",
    "### Important issues to look for in the data\n",
    "\n",
    "#### Duplicates\n",
    "    - does the data have duplicates that need to be removed?\n",
    "    - how does keeping or removing duplicate values change the insight from later EDA?\n",
    "#### Null Values \n",
    "    - does the data have null values that should be removed?\n",
    "    - how does keeping or removing null values change the insight from later EDA?\n",
    "#### Oulier Values\n",
    "    - do categorical varibles have resonable responses - example variables states have only real states?\n",
    "    - do quantitative variables have a resonable range and standard deviation?\n",
    "#### Inconsistent formats\n",
    "    - do the variables have data types that make sense for the variable?"
   ]
  },
  {
   "cell_type": "code",
   "execution_count": null,
   "id": "ea4f169d-1ccf-484a-812c-c9271b51511d",
   "metadata": {},
   "outputs": [],
   "source": [
    "#load in packages\n",
    "import pandas as pd\n",
    "import numpy as np\n",
    "import matplotlib as plt\n",
    "import seaborn as sns\n",
    "\n",
    "pd.set_option('display.max_columns', None)"
   ]
  },
  {
   "cell_type": "code",
   "execution_count": null,
   "id": "6091c222-1fde-4240-9ced-5d770e016655",
   "metadata": {},
   "outputs": [],
   "source": [
    "#load in data\n",
    "data = pd.read_csv(\"\")\n",
    "\n",
    "#have a large dataset?\n",
    "# ! pip install datatble\n",
    "# import datatable as dt\n",
    "# data = dt.fread(\"\").to_pandas()"
   ]
  },
  {
   "cell_type": "code",
   "execution_count": null,
   "id": "d628ff97-77bc-4dce-be42-b625c29a0f74",
   "metadata": {},
   "outputs": [],
   "source": [
    "data.head()"
   ]
  },
  {
   "cell_type": "code",
   "execution_count": null,
   "id": "9e156899-8d35-42b2-89c3-4e5cc85b957a",
   "metadata": {},
   "outputs": [],
   "source": [
    "#number of duplicates \n",
    "duplicate_rows_df = data[data.duplicated()]\n",
    "print(\"number of duplicate rows: \", duplicate_rows_df.shape)\n",
    "\n",
    "#if you would like to remove duplicated values\n",
    "# data = data.drop_duplicates()\n",
    "# print(\"number of duplicate rows: \", duplicate_rows_df.shape)"
   ]
  },
  {
   "cell_type": "code",
   "execution_count": null,
   "id": "afef106f-fbb4-475a-81de-4f979a9b55b1",
   "metadata": {},
   "outputs": [],
   "source": [
    "#number of na values by variable\n",
    "nulls = data.isnull().sum().sort_values(ascending=False)\n",
    "print(\"Number of missing values:\")\n",
    "nulls.head(20)"
   ]
  },
  {
   "cell_type": "code",
   "execution_count": null,
   "id": "bdc56636-cb12-453a-93c8-d7fdfa5a2891",
   "metadata": {},
   "outputs": [],
   "source": [
    "#observe unique values of variables to see if anything is sus\n",
    "for variables in data.columns:\n",
    "    print(\"----------------------------------------------\")\n",
    "    print(\"unique values of variable: \" + str(variables))\n",
    "    print(data[variables].unique())"
   ]
  },
  {
   "cell_type": "code",
   "execution_count": null,
   "id": "974b22b7-f440-4a21-b378-2189fb4f5a05",
   "metadata": {},
   "outputs": [],
   "source": [
    "#statistical values of numerical variables\n",
    "data.describe()"
   ]
  },
  {
   "cell_type": "code",
   "execution_count": null,
   "id": "2e78b832-d2ed-4c60-beb2-40dee84e5b76",
   "metadata": {},
   "outputs": [],
   "source": [
    "#find format of variables\n",
    "print(data.dtypes)"
   ]
  },
  {
   "cell_type": "markdown",
   "id": "3ee7bcf7-ee97-4d80-bc04-5c10e089b25f",
   "metadata": {},
   "source": [
    "## 3. Individual Variables Exploration\n",
    "    - is there a dominated value for certain variables?\n",
    "    - is there an interesting distribution within the responses?\n",
    "    - do the responses make sense based on the context and background of the data?"
   ]
  },
  {
   "cell_type": "code",
   "execution_count": null,
   "id": "51e42843-adbe-479d-8b63-8b464f3815c8",
   "metadata": {},
   "outputs": [],
   "source": [
    "#value counts of categorical values\n",
    "data[''].value_counts().plot(kind='bar', figsize=(8,8))\n",
    "pass"
   ]
  },
  {
   "cell_type": "code",
   "execution_count": null,
   "id": "ebe3fdfd-27cd-48bc-8338-f831e721fae6",
   "metadata": {},
   "outputs": [],
   "source": [
    "counts = data.groupby('')[''].count()\n",
    "counts.head(20)"
   ]
  },
  {
   "cell_type": "code",
   "execution_count": null,
   "id": "fab2a3eb-a001-413f-8ecd-67ad7b87c8e5",
   "metadata": {},
   "outputs": [],
   "source": [
    "#if you have a continuous float value, might be useful to use a histogram\n",
    "#I like to use the seaborn histogram \n",
    "\n",
    "sns.displot(data, x = '', binwidth=0.2, kind = 'hist')"
   ]
  },
  {
   "cell_type": "markdown",
   "id": "13a8a20d-396e-40e2-baea-2876f3823e6c",
   "metadata": {},
   "source": [
    "## 2-3. Alternative Method\n",
    "\n",
    "### Pandas Profiling \n"
   ]
  },
  {
   "cell_type": "code",
   "execution_count": null,
   "id": "b6d231fe-4801-486a-a5f9-e931ceb20e99",
   "metadata": {},
   "outputs": [],
   "source": [
    "# ! pip install pandas_profiling\n",
    "import pandas_profiling\n",
    "\n",
    "profile = data.profile_report(title='Pandas Profiling Report')\n",
    "profile.to_file(output_file=\"pandas_profiling.html\")"
   ]
  },
  {
   "cell_type": "markdown",
   "id": "04d3228c-6136-4039-833d-e302d75c4a46",
   "metadata": {},
   "source": [
    "## 4. Variable Correlation Exploration\n",
    "    - How to variables compare to one another\n",
    "    - This is a good section to explore ideas and questions from the brainstorming questions of how certain variables might compare to one another\n",
    "    - Often important to aggregate many of the features to compare"
   ]
  },
  {
   "cell_type": "code",
   "execution_count": null,
   "id": "7a7f1b42-f315-41d8-ba86-b2516294fbe4",
   "metadata": {},
   "outputs": [],
   "source": [
    "#start with pairplot to get simple comparisions of variables\n",
    "sns.pairplot(data)\n",
    "pass"
   ]
  },
  {
   "cell_type": "code",
   "execution_count": null,
   "id": "cca28cd7-f94d-46e2-b34a-f077971f4bfe",
   "metadata": {},
   "outputs": [],
   "source": [
    "#Often important to aggregate many of the features to compare\n",
    "aggregate_average = data.groupby('')[''].mean()\n",
    "aggregate_average.head(20)"
   ]
  },
  {
   "cell_type": "code",
   "execution_count": null,
   "id": "71388da7-72c7-4f38-9e0a-880cf0c4adb4",
   "metadata": {},
   "outputs": [],
   "source": [
    "#you can also create scatter plots to see how different aggragates compare by combining dataframes\n",
    "\n",
    "Merged_Df.plot.scatter(x='', y='', c='DarkBlue', figsize=(8,8))\n",
    "pass"
   ]
  },
  {
   "cell_type": "markdown",
   "id": "a381400c-b5b5-470e-965c-ef40b08bf68f",
   "metadata": {},
   "source": [
    "## 5. Conclusion and Next Steps\n",
    "    - Document findings at the end of the EDA project that way they are easy to access and look at again in the future"
   ]
  }
 ],
 "metadata": {
  "kernelspec": {
   "display_name": "Python 3",
   "language": "python",
   "name": "python3"
  },
  "language_info": {
   "codemirror_mode": {
    "name": "ipython",
    "version": 3
   },
   "file_extension": ".py",
   "mimetype": "text/x-python",
   "name": "python",
   "nbconvert_exporter": "python",
   "pygments_lexer": "ipython3",
   "version": "3.8.5"
  }
 },
 "nbformat": 4,
 "nbformat_minor": 5
}
