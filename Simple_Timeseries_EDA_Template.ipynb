{
 "cells": [
  {
   "cell_type": "markdown",
   "id": "c92b3c21-ef8f-4231-a6dd-24a2cbc8041c",
   "metadata": {},
   "source": [
    "# Simple Timeseries EDA Template"
   ]
  },
  {
   "cell_type": "markdown",
   "id": "7c67b6df-946c-45b9-97eb-03cb469b4267",
   "metadata": {},
   "source": [
    "### Overview Steps:\n",
    "    1. Research and Brainstorm\n",
    "    2. Preprocessing\n",
    "    3. Individual Variables Exploration\n",
    "    4. Variable Correlation Exploration\n",
    "    5. Decomposition Exploration\n",
    "    6. Conclusion and Next Steps"
   ]
  },
  {
   "cell_type": "code",
   "execution_count": null,
   "id": "9f38cbd8-ffbb-46ee-beda-e8084e43caf2",
   "metadata": {},
   "outputs": [],
   "source": []
  }
 ],
 "metadata": {
  "kernelspec": {
   "display_name": "Python 3",
   "language": "python",
   "name": "python3"
  },
  "language_info": {
   "codemirror_mode": {
    "name": "ipython",
    "version": 3
   },
   "file_extension": ".py",
   "mimetype": "text/x-python",
   "name": "python",
   "nbconvert_exporter": "python",
   "pygments_lexer": "ipython3",
   "version": "3.8.5"
  }
 },
 "nbformat": 4,
 "nbformat_minor": 5
}
