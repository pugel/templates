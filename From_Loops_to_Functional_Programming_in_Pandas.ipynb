{
 "cells": [
  {
   "cell_type": "markdown",
   "id": "b84318a6-fa52-4fc4-866a-6435a2fd675b",
   "metadata": {},
   "source": [
    "# From Loops to Functional Programming in Pandas"
   ]
  },
  {
   "cell_type": "code",
   "execution_count": null,
   "id": "c9b4fcde-4c2a-435d-a95c-7820cc6c1526",
   "metadata": {},
   "outputs": [],
   "source": []
  }
 ],
 "metadata": {
  "kernelspec": {
   "display_name": "Python 3",
   "language": "python",
   "name": "python3"
  },
  "language_info": {
   "codemirror_mode": {
    "name": "ipython",
    "version": 3
   },
   "file_extension": ".py",
   "mimetype": "text/x-python",
   "name": "python",
   "nbconvert_exporter": "python",
   "pygments_lexer": "ipython3",
   "version": "3.8.5"
  }
 },
 "nbformat": 4,
 "nbformat_minor": 5
}
